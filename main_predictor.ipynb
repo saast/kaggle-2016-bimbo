{
 "cells": [
  {
   "cell_type": "code",
   "execution_count": 1,
   "metadata": {
    "collapsed": false
   },
   "outputs": [],
   "source": [
    "import pandas as pd\n",
    "import pickle"
   ]
  },
  {
   "cell_type": "code",
   "execution_count": 2,
   "metadata": {
    "collapsed": true
   },
   "outputs": [],
   "source": [
    "train_data_filename = 'data/train.csv'"
   ]
  },
  {
   "cell_type": "code",
   "execution_count": 3,
   "metadata": {
    "collapsed": true
   },
   "outputs": [],
   "source": [
    "#train_n = sum(1 for line in open(train_data_filename))\n",
    "#print(train_n)\n",
    "train_n = 74180465"
   ]
  },
  {
   "cell_type": "code",
   "execution_count": 5,
   "metadata": {
    "collapsed": true
   },
   "outputs": [],
   "source": [
    "# Read once\n",
    "chunksize = 2500000\n",
    "df_train = []\n",
    "for df_train_part in pd.read_csv(train_data_filename, chunksize=chunksize):\n",
    "    df_train.append(df_train_part[df_train_part['Producto_ID'] == 30314])\n",
    "\n",
    "df_train = pd.concat(df_train)\n",
    "\n",
    "# Save selected data\n",
    "with open('vars/df_train.pickle', 'wb') as f:\n",
    "    # Pickle the 'data' dictionary using the highest protocol available.\n",
    "    pickle.dump(df_train, f, pickle.HIGHEST_PROTOCOL)"
   ]
  },
  {
   "cell_type": "code",
   "execution_count": 4,
   "metadata": {
    "collapsed": true
   },
   "outputs": [],
   "source": [
    "# Read selected data\n",
    "with open('vars/df_train.pickle', 'rb') as f:\n",
    "    # The protocol version used is detected automatically, so we do not\n",
    "    # have to specify it.\n",
    "    df_train = pickle.load(f)"
   ]
  },
  {
   "cell_type": "code",
   "execution_count": 5,
   "metadata": {
    "collapsed": false
   },
   "outputs": [
    {
     "data": {
      "text/html": [
       "<div>\n",
       "<table border=\"1\" class=\"dataframe\">\n",
       "  <thead>\n",
       "    <tr style=\"text-align: right;\">\n",
       "      <th></th>\n",
       "      <th>Semana</th>\n",
       "      <th>Agencia_ID</th>\n",
       "      <th>Canal_ID</th>\n",
       "      <th>Ruta_SAK</th>\n",
       "      <th>Cliente_ID</th>\n",
       "      <th>Producto_ID</th>\n",
       "      <th>Venta_uni_hoy</th>\n",
       "      <th>Venta_hoy</th>\n",
       "      <th>Dev_uni_proxima</th>\n",
       "      <th>Dev_proxima</th>\n",
       "      <th>Demanda_uni_equil</th>\n",
       "    </tr>\n",
       "  </thead>\n",
       "  <tbody>\n",
       "    <tr>\n",
       "      <th>117355</th>\n",
       "      <td>3</td>\n",
       "      <td>1112</td>\n",
       "      <td>1</td>\n",
       "      <td>2110</td>\n",
       "      <td>322011</td>\n",
       "      <td>30314</td>\n",
       "      <td>0</td>\n",
       "      <td>0.00</td>\n",
       "      <td>1</td>\n",
       "      <td>19.09</td>\n",
       "      <td>0</td>\n",
       "    </tr>\n",
       "    <tr>\n",
       "      <th>159199</th>\n",
       "      <td>3</td>\n",
       "      <td>1114</td>\n",
       "      <td>2</td>\n",
       "      <td>4</td>\n",
       "      <td>22550</td>\n",
       "      <td>30314</td>\n",
       "      <td>48</td>\n",
       "      <td>754.08</td>\n",
       "      <td>0</td>\n",
       "      <td>0.00</td>\n",
       "      <td>48</td>\n",
       "    </tr>\n",
       "    <tr>\n",
       "      <th>159353</th>\n",
       "      <td>3</td>\n",
       "      <td>1114</td>\n",
       "      <td>2</td>\n",
       "      <td>8</td>\n",
       "      <td>19174</td>\n",
       "      <td>30314</td>\n",
       "      <td>360</td>\n",
       "      <td>5655.60</td>\n",
       "      <td>0</td>\n",
       "      <td>0.00</td>\n",
       "      <td>360</td>\n",
       "    </tr>\n",
       "    <tr>\n",
       "      <th>159561</th>\n",
       "      <td>3</td>\n",
       "      <td>1114</td>\n",
       "      <td>2</td>\n",
       "      <td>10</td>\n",
       "      <td>22531</td>\n",
       "      <td>30314</td>\n",
       "      <td>240</td>\n",
       "      <td>3770.40</td>\n",
       "      <td>0</td>\n",
       "      <td>0.00</td>\n",
       "      <td>240</td>\n",
       "    </tr>\n",
       "    <tr>\n",
       "      <th>159637</th>\n",
       "      <td>3</td>\n",
       "      <td>1114</td>\n",
       "      <td>2</td>\n",
       "      <td>11</td>\n",
       "      <td>1685259</td>\n",
       "      <td>30314</td>\n",
       "      <td>96</td>\n",
       "      <td>1775.04</td>\n",
       "      <td>0</td>\n",
       "      <td>0.00</td>\n",
       "      <td>96</td>\n",
       "    </tr>\n",
       "  </tbody>\n",
       "</table>\n",
       "</div>"
      ],
      "text/plain": [
       "        Semana  Agencia_ID  Canal_ID  Ruta_SAK  Cliente_ID  Producto_ID  \\\n",
       "117355       3        1112         1      2110      322011        30314   \n",
       "159199       3        1114         2         4       22550        30314   \n",
       "159353       3        1114         2         8       19174        30314   \n",
       "159561       3        1114         2        10       22531        30314   \n",
       "159637       3        1114         2        11     1685259        30314   \n",
       "\n",
       "        Venta_uni_hoy  Venta_hoy  Dev_uni_proxima  Dev_proxima  \\\n",
       "117355              0       0.00                1        19.09   \n",
       "159199             48     754.08                0         0.00   \n",
       "159353            360    5655.60                0         0.00   \n",
       "159561            240    3770.40                0         0.00   \n",
       "159637             96    1775.04                0         0.00   \n",
       "\n",
       "        Demanda_uni_equil  \n",
       "117355                  0  \n",
       "159199                 48  \n",
       "159353                360  \n",
       "159561                240  \n",
       "159637                 96  "
      ]
     },
     "execution_count": 5,
     "metadata": {},
     "output_type": "execute_result"
    }
   ],
   "source": [
    "df_train.head()"
   ]
  },
  {
   "cell_type": "code",
   "execution_count": null,
   "metadata": {
    "collapsed": true
   },
   "outputs": [],
   "source": []
  }
 ],
 "metadata": {
  "kernelspec": {
   "display_name": "Python 3",
   "language": "python",
   "name": "python3"
  },
  "language_info": {
   "codemirror_mode": {
    "name": "ipython",
    "version": 3
   },
   "file_extension": ".py",
   "mimetype": "text/x-python",
   "name": "python",
   "nbconvert_exporter": "python",
   "pygments_lexer": "ipython3",
   "version": "3.4.3"
  }
 },
 "nbformat": 4,
 "nbformat_minor": 0
}
